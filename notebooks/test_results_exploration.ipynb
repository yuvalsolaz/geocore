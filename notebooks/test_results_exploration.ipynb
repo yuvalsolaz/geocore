{
 "cells": [
  {
   "cell_type": "markdown",
   "metadata": {},
   "source": [
    "takes address data (as free text) from input csv file\n",
    "for each address string call google maps geocode api\n",
    "save dictionary with all results as a pickle file in : ./data/gapi_results.pkl\n",
    "creates new csv file: ./data/test_results.csv with coordinates and some additional data\n",
    "if the api results file ( ./data/gapi_results.pkl) exists the script will not call the api"
   ]
  }
 ],
 "metadata": {
  "kernelspec": {
   "display_name": "Python 3",
   "language": "python",
   "name": "python3"
  },
  "language_info": {
   "codemirror_mode": {
    "name": "ipython",
    "version": 3
   },
   "file_extension": ".py",
   "mimetype": "text/x-python",
   "name": "python",
   "nbconvert_exporter": "python",
   "pygments_lexer": "ipython3",
   "version": "3.7.4"
  }
 },
 "nbformat": 4,
 "nbformat_minor": 2
}
