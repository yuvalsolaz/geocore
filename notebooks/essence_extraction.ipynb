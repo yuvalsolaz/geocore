{
 "cells": [
  {
   "cell_type": "code",
   "execution_count": 1,
   "metadata": {},
   "outputs": [],
   "source": [
    "import pandas as pd\n",
    "import re\n",
    "import os\n",
    "import inspect"
   ]
  },
  {
   "cell_type": "code",
   "execution_count": 2,
   "metadata": {},
   "outputs": [],
   "source": [
    "DEFAULT_CITY_PATH = os.path.join(\"..\", \"data\", \"yeshuvim_20200301.csv\")\n",
    "DEFAULT_ESSENCE_JSON_PATH = os.path.join(\"essensce_regex.json\")\n",
    "\n",
    "#DATA_PATH = r\"../data/EPI_CoronaExposure_XRM_NEW_31_3_1807_TableToExcel.csv\"\n",
    "DATA_PATH = r\"../data/test.csv\"\n",
    "\n",
    "\n",
    "df = pd.read_csv(DATA_PATH, index_col=0)"
   ]
  },
  {
   "cell_type": "code",
   "execution_count": 3,
   "metadata": {},
   "outputs": [
    {
     "name": "stdout",
     "output_type": "stream",
     "text": [
      "תל אביב יפו\n",
      "תל אביב - יפו\n",
      "תל אביב   יפו\n",
      "תל אביב\n",
      "True\n",
      "True\n",
      "True\n",
      "True\n",
      "False\n",
      "False\n",
      "True\n"
     ]
    }
   ],
   "source": [
    "yeshuv_df = pd.read_csv(DEFAULT_CITY_PATH, encoding=\"cp1255\", usecols=[\"שם_ישוב\"], skiprows=1, dtype=str)\n",
    "yeshuv_df[\"שם_ישוב\"] = yeshuv_df[\"שם_ישוב\"].apply(lambda x: x.split(\"  \")[0].replace(\")\",\"\").replace(\"(\",\"\"))\n",
    "\n",
    "union_set_1 = set(yeshuv_df[\"שם_ישוב\"].tolist())\n",
    "union_set_2 = set(yeshuv_df[\"שם_ישוב\"].str.replace(\"-\",\" \").tolist())\n",
    "union_set_3 = set(yeshuv_df[\"שם_ישוב\"].str.replace(\"י\",\"יי\").tolist())\n",
    "union_set_4 = set(yeshuv_df[\"שם_ישוב\"].str.replace(\" - \", \" \").tolist())\n",
    "union_set_5 = set(yeshuv_df[\"שם_ישוב\"].str.replace(\"יי\",\"י\").tolist())\n",
    "union_set_6 = set(yeshuv_df[\"שם_ישוב\"].str.split(\"-\", \" \").tolist())\n",
    "\n",
    "split_set = []\n",
    "for elem in yeshuv_df[\"שם_ישוב\"].str.split(\"-\").tolist():\n",
    "    for name in elem:\n",
    "        split_set.append(name)\n",
    "union_set_7 = set(split_set)\n",
    "\n",
    "temp = set(union_set_1.union(union_set_2).union(union_set_3).union(union_set_4).union(union_set_5).union(union_set_6).union(union_set_7))\n",
    "\n",
    "all_seperated_names = []\n",
    "\n",
    "for name in temp:\n",
    "    try:\n",
    "        candidate = name.rstrip().lstrip()\n",
    "        all_seperated_names.append(candidate)\n",
    "        if \"תל אביב\" in candidate:\n",
    "            print(candidate)            \n",
    "    except:\n",
    "        pass\n",
    "\n",
    "all_seperated_names = set(all_seperated_names)\n",
    "\n",
    "print(\"מכבים\" in all_seperated_names)\n",
    "print(\"תל אביב\" in all_seperated_names)\n",
    "print(\"אום אל-פחם\" in all_seperated_names)\n",
    "print(\"מודיעין\" in all_seperated_names)\n",
    "print(\"אופ אל פחם\" in all_seperated_names)\n",
    "print(\"עינב\" in all_seperated_names)\n",
    "print(\"ענב\" in all_seperated_names)\n"
   ]
  },
  {
   "cell_type": "code",
   "execution_count": 4,
   "metadata": {},
   "outputs": [],
   "source": [
    "loc_list = [r\"'רחוב \", \"שדרות\",\"רח\"]\n",
    "syng_list = [\"בית כנסת\", \"בית הכנסת\", r'ביה\"כ', r\"ביה'כ\", 'ביהכ\"נ', 'בהיכ\"נ']\n",
    "yeshiva_list = [\"ישיבה\", \"ישיבת\", \"כולל\", \"מדרש\"]\n",
    "grocery_list = [ \"מכולת\",\"מגה בעיר\", \"סנטר\", \"סופר\", \"שופרסל\",\n",
    "                \"אושר עד\", \"מאפית\", \"צרכניית\"\n",
    "                \"נתיב החסד\", \"מגא בעיר\", \"קיוסק\", \"רמי לוי\", \"מרכול\"]\n",
    "club_list = [\"מועדון\", \"אולם\", \"ברקה\", \"אולמ\"]\n",
    "pharmecy_list = [\"קופת חולים מכבי\", \"בית מרקחת\", \"מרפאה\", \"סופרפארם\", \"שופרסל בי\"\n",
    "                 ,\"פארם\", \"קופת חולים כללי\", \"טרם\", \"מרפאת\", \"עזר מציון\", 'קופ\"ח', 'קופת חולים מאוחדת',\n",
    "                \"קופח\"]\n",
    "hospital_list = [r\"ביח'\", r\"מיון\", r'בי\"ח', \"קורונה\",'בה\"ח', \"בית חולים\", \"הדסה\", \"חדר ניתוח\"\n",
    "                 , \"תל השומר\", \"אשפוז\" \"דימות\", \"מחלקה פנימית\", \"חדר ניתו\", \"רפואה דחופה\"]\n",
    "elderly_list = [\"אבות\", \"בית הורים\", \"דיור מוגן\"]\n",
    "mikve_list = [\"מקווה\", \"מקוה\"]\n",
    "gym_list = [\"מכון כושר\", \"מועדון כושר\", \"קאנטרי\"]\n",
    "restaurant_list = [\"מסעדה\" ,\"קפה\", \"מסעדת\", \"חדר אוכל\"]\n",
    "church_list = [\"כנסיית\", \"כנסייה\", \"כנסיה\", \"מינזר\", \"מנזר\", \"כנסית\"]\n",
    "cemetery_list = [\"קברות\", \"עלמין\", \"קבר\"]\n",
    "store_list = [\"חנות\", 'בע\"מ']\n",
    "bank_list = [\"בנק\"]\n",
    "fuel_list = [\"דלק\", \"פז\" , \"סונול\"]\n",
    "college_list = [\"מכללה\", \"מכללת\", \"אוניברסיטה\", \"אוניברסיטת\", \"סמי שמעון\"]\n",
    "school_list = [\"בית ספר\", \"בית הספר\", \"ביס'\", 'ביה\"ס', 'ביס']\n",
    "\n",
    "\n",
    "\n",
    "column_list = [\"loc\", \"syng\", \"yeshiva\", \"grocery\", \"club\", \n",
    "               \"hospital\", \"pharmecy\", \"elderly\", \"mikve\", \"gym\",\n",
    "               \"restaurant\", \"church\", \"cemetery\", \"store\", \"bank\",\n",
    "               \"fuel\", \"college\", \"school\"]\n",
    "\n",
    "topic_list = [loc_list, syng_list, yeshiva_list, grocery_list, club_list, \n",
    "              hospital_list, pharmecy_list ,elderly_list, mikve_list, gym_list,\n",
    "              restaurant_list, church_list, cemetery_list, store_list, bank_list,\n",
    "              fuel_list, college_list, school_list]\n",
    "regex_list = [r\"(?=(\"+'|'.join(current_list)+r\"))\" for current_list in topic_list]"
   ]
  },
  {
   "cell_type": "code",
   "execution_count": 5,
   "metadata": {},
   "outputs": [
    {
     "data": {
      "text/html": [
       "<div>\n",
       "<style scoped>\n",
       "    .dataframe tbody tr th:only-of-type {\n",
       "        vertical-align: middle;\n",
       "    }\n",
       "\n",
       "    .dataframe tbody tr th {\n",
       "        vertical-align: top;\n",
       "    }\n",
       "\n",
       "    .dataframe thead th {\n",
       "        text-align: right;\n",
       "    }\n",
       "</style>\n",
       "<table border=\"1\" class=\"dataframe\">\n",
       "  <thead>\n",
       "    <tr style=\"text-align: right;\">\n",
       "      <th></th>\n",
       "      <th>OBJECTID</th>\n",
       "      <th>מקום</th>\n",
       "      <th>הערות</th>\n",
       "      <th>תאריך</th>\n",
       "      <th>שעות שהייה</th>\n",
       "      <th>סוג מיקום</th>\n",
       "      <th>x</th>\n",
       "      <th>y</th>\n",
       "      <th>('ArcGIS',)_x</th>\n",
       "      <th>('ArcGIS',)_y</th>\n",
       "      <th>('Photon',)_x</th>\n",
       "      <th>('Photon',)_y</th>\n",
       "      <th>('Nominatim',)_x</th>\n",
       "      <th>('Nominatim',)_y</th>\n",
       "    </tr>\n",
       "  </thead>\n",
       "  <tbody>\n",
       "    <tr>\n",
       "      <th>0</th>\n",
       "      <td>14701</td>\n",
       "      <td>מועדון \"זוזו\", שדרות רוטשילד 32, תל אביב</td>\n",
       "      <td>בכל שעות פעילות</td>\n",
       "      <td>9/3/2020</td>\n",
       "      <td>00:00-23:59</td>\n",
       "      <td>מיקום חולה</td>\n",
       "      <td>34.772886</td>\n",
       "      <td>32.063224</td>\n",
       "      <td>34.772787</td>\n",
       "      <td>32.063283</td>\n",
       "      <td>NaN</td>\n",
       "      <td>NaN</td>\n",
       "      <td>NaN</td>\n",
       "      <td>NaN</td>\n",
       "    </tr>\n",
       "    <tr>\n",
       "      <th>1</th>\n",
       "      <td>14702</td>\n",
       "      <td>דיור מוגן \"מגדל נופים\" רחוב הנריטה סאלד 2 ירושלים</td>\n",
       "      <td>NaN</td>\n",
       "      <td>9/3/2020</td>\n",
       "      <td>00:00-23:59</td>\n",
       "      <td>מיקום חולה</td>\n",
       "      <td>35.171270</td>\n",
       "      <td>31.762360</td>\n",
       "      <td>35.161756</td>\n",
       "      <td>31.758740</td>\n",
       "      <td>NaN</td>\n",
       "      <td>NaN</td>\n",
       "      <td>NaN</td>\n",
       "      <td>NaN</td>\n",
       "    </tr>\n",
       "    <tr>\n",
       "      <th>2</th>\n",
       "      <td>14703</td>\n",
       "      <td>מועדון Sura Mare, רחוב סעדיה גאון 24, תל אביב</td>\n",
       "      <td>מסיבת פורים</td>\n",
       "      <td>9/3/2020</td>\n",
       "      <td>00:00-00:30</td>\n",
       "      <td>מיקום חולה</td>\n",
       "      <td>34.782293</td>\n",
       "      <td>32.068206</td>\n",
       "      <td>34.782243</td>\n",
       "      <td>32.068038</td>\n",
       "      <td>NaN</td>\n",
       "      <td>NaN</td>\n",
       "      <td>NaN</td>\n",
       "      <td>NaN</td>\n",
       "    </tr>\n",
       "    <tr>\n",
       "      <th>3</th>\n",
       "      <td>14704</td>\n",
       "      <td>מועדון \"Sura Mare\", רחוב סעדיה גאון 24, תל אביב</td>\n",
       "      <td>מסיבת פורים</td>\n",
       "      <td>9/3/2020</td>\n",
       "      <td>00:00-03:00</td>\n",
       "      <td>מיקום חולה</td>\n",
       "      <td>34.782293</td>\n",
       "      <td>32.068206</td>\n",
       "      <td>34.782243</td>\n",
       "      <td>32.068038</td>\n",
       "      <td>NaN</td>\n",
       "      <td>NaN</td>\n",
       "      <td>NaN</td>\n",
       "      <td>NaN</td>\n",
       "    </tr>\n",
       "    <tr>\n",
       "      <th>4</th>\n",
       "      <td>14705</td>\n",
       "      <td>אולם \"שבע\" רח' הצפירה 21, ת\"א</td>\n",
       "      <td>אירוע</td>\n",
       "      <td>9/3/2020</td>\n",
       "      <td>00:00-02:00</td>\n",
       "      <td>מיקום חולה</td>\n",
       "      <td>34.782718</td>\n",
       "      <td>32.060795</td>\n",
       "      <td>34.782458</td>\n",
       "      <td>32.060849</td>\n",
       "      <td>NaN</td>\n",
       "      <td>NaN</td>\n",
       "      <td>NaN</td>\n",
       "      <td>NaN</td>\n",
       "    </tr>\n",
       "  </tbody>\n",
       "</table>\n",
       "</div>"
      ],
      "text/plain": [
       "   OBJECTID                                               מקום  \\\n",
       "0     14701           מועדון \"זוזו\", שדרות רוטשילד 32, תל אביב   \n",
       "1     14702  דיור מוגן \"מגדל נופים\" רחוב הנריטה סאלד 2 ירושלים   \n",
       "2     14703      מועדון Sura Mare, רחוב סעדיה גאון 24, תל אביב   \n",
       "3     14704    מועדון \"Sura Mare\", רחוב סעדיה גאון 24, תל אביב   \n",
       "4     14705                      אולם \"שבע\" רח' הצפירה 21, ת\"א   \n",
       "\n",
       "             הערות     תאריך   שעות שהייה   סוג מיקום          x          y  \\\n",
       "0  בכל שעות פעילות  9/3/2020  00:00-23:59  מיקום חולה  34.772886  32.063224   \n",
       "1              NaN  9/3/2020  00:00-23:59  מיקום חולה  35.171270  31.762360   \n",
       "2      מסיבת פורים  9/3/2020  00:00-00:30  מיקום חולה  34.782293  32.068206   \n",
       "3      מסיבת פורים  9/3/2020  00:00-03:00  מיקום חולה  34.782293  32.068206   \n",
       "4            אירוע  9/3/2020  00:00-02:00  מיקום חולה  34.782718  32.060795   \n",
       "\n",
       "   ('ArcGIS',)_x  ('ArcGIS',)_y  ('Photon',)_x  ('Photon',)_y  \\\n",
       "0      34.772787      32.063283            NaN            NaN   \n",
       "1      35.161756      31.758740            NaN            NaN   \n",
       "2      34.782243      32.068038            NaN            NaN   \n",
       "3      34.782243      32.068038            NaN            NaN   \n",
       "4      34.782458      32.060849            NaN            NaN   \n",
       "\n",
       "   ('Nominatim',)_x  ('Nominatim',)_y  \n",
       "0               NaN               NaN  \n",
       "1               NaN               NaN  \n",
       "2               NaN               NaN  \n",
       "3               NaN               NaN  \n",
       "4               NaN               NaN  "
      ]
     },
     "execution_count": 5,
     "metadata": {},
     "output_type": "execute_result"
    }
   ],
   "source": [
    "df.head()"
   ]
  },
  {
   "cell_type": "code",
   "execution_count": 8,
   "metadata": {},
   "outputs": [
    {
     "data": {
      "text/plain": [
       "True"
      ]
     },
     "execution_count": 8,
     "metadata": {},
     "output_type": "execute_result"
    }
   ],
   "source": [
    "\"מקום\" in df.columns.tolist()"
   ]
  },
  {
   "cell_type": "code",
   "execution_count": 10,
   "metadata": {},
   "outputs": [
    {
     "name": "stdout",
     "output_type": "stream",
     "text": [
      "['OBJECTID', 'place', 'הערות', 'תאריך', 'שעות שהייה', 'סוג מיקום', 'x', 'y', \"('ArcGIS',)_x\", \"('ArcGIS',)_y\", \"('Photon',)_x\", \"('Photon',)_y\", \"('Nominatim',)_x\", \"('Nominatim',)_y\"]\n",
      "<class 'pandas.core.frame.DataFrame'>\n"
     ]
    }
   ],
   "source": [
    "if \"מקום\" in df.columns.tolist():\n",
    "    df.rename(columns={\"מקום\":\"place\"}, inplace=True)\n",
    "df_topics = df[[\"place\"]].astype(\"str\")\n",
    "print(type(df_topics))\n",
    "for current_column_name, current_regex in zip(column_list, regex_list):\n",
    "    df_topics[\"is_\" + current_column_name] = df_topics[\"place\"].apply(lambda x: bool(re.search(current_regex, x)))"
   ]
  },
  {
   "cell_type": "code",
   "execution_count": 11,
   "metadata": {},
   "outputs": [
    {
     "data": {
      "image/png": "[encoded data removed]",
      "text/plain": [
       "<Figure size 720x720 with 1 Axes>"
      ]
     },
     "metadata": {
      "needs_background": "light"
     },
     "output_type": "display_data"
    }
   ],
   "source": [
    "essesnce_hist = df_topics[df_topics[df_topics.columns[2:-1]].astype(int) == 1].count().sort_values(ascending=False) #ignoring locations\n",
    "hit_percentage = \"{:.2f}\".format(essesnce_hist.sum() / len(df_topics) * 100)\n",
    "plot = essesnce_hist.plot.bar(grid=True, figsize=(10,10), title=\"Extracted types - \" + DATA_PATH + \" hits: \" + hit_percentage)\n",
    "fig = plot.get_figure()\n",
    "fig.savefig(\"historgram.jpeg\")"
   ]
  },
  {
   "cell_type": "code",
   "execution_count": null,
   "metadata": {},
   "outputs": [],
   "source": [
    "print(\"extracted essesnces percentage: {:.2f}\".format(essesnce_hist.sum() / len(df_topics) * 100))"
   ]
  },
  {
   "cell_type": "code",
   "execution_count": null,
   "metadata": {},
   "outputs": [],
   "source": [
    "#df_topics[df_topics[df_topics.columns[2:-1]].astype(int) == 1].hist(bins=len(column_list))"
   ]
  },
  {
   "cell_type": "code",
   "execution_count": null,
   "metadata": {},
   "outputs": [],
   "source": [
    "df_topics[df_topics[df_topics.columns[2:]].astype(int).sum(axis=1) == 0].to_csv(\"uncategorised.csv\") #getting all rows without regex hits"
   ]
  },
  {
   "cell_type": "code",
   "execution_count": null,
   "metadata": {},
   "outputs": [],
   "source": [
    "yeshuv_df[yeshuv_df[\"שם_ישוב\"].str.contains(\"מודיעין\")]"
   ]
  },
  {
   "cell_type": "code",
   "execution_count": null,
   "metadata": {
    "scrolled": false
   },
   "outputs": [],
   "source": [
    "#df_topics[\"yeshuv\"] = df_topics[\"מקום\"].apply(lambda x: yeshuv_df[yeshuv_df[\"שם_ישוב\"].str.contains(\"תל אביב\")])\n",
    "\n",
    "def extract_city(text):\n",
    "    candidate_text = text[-12:]\n",
    "    best_match = \"   \"\n",
    "    for city in all_seperated_names:\n",
    "        if city == candidate_text or (city in candidate_text and len(city) > len(best_match)):\n",
    "            best_match = city\n",
    "    #print(\"text: \" + text + \" candidate_text: \" + str(candidate_text) + \" , city: \" + best_match)\n",
    "    return best_match\n",
    "\n",
    "df_topics[\"yeshuv\"] = df_topics[\"מקום\"].apply(extract_city)"
   ]
  },
  {
   "cell_type": "code",
   "execution_count": null,
   "metadata": {},
   "outputs": [],
   "source": [
    "\n",
    "#essesnce_hist.plot.bar(grid=True, figsize=(10,10), title=\"Extracted Site Essense Occurences\")\n",
    "df_topics[\"yeshuv\"].hist(figsize=(20,20), xrot=90, xlabelsize=12)"
   ]
  },
  {
   "cell_type": "code",
   "execution_count": null,
   "metadata": {},
   "outputs": [],
   "source": [
    "city_hist"
   ]
  },
  {
   "cell_type": "code",
   "execution_count": null,
   "metadata": {},
   "outputs": [],
   "source": []
  }
 ],
 "metadata": {
  "kernelspec": {
   "display_name": "Python 3",
   "language": "python",
   "name": "python3"
  },
  "language_info": {
   "codemirror_mode": {
    "name": "ipython",
    "version": 3
   },
   "file_extension": ".py",
   "mimetype": "text/x-python",
   "name": "python",
   "nbconvert_exporter": "python",
   "pygments_lexer": "ipython3",
   "version": "3.6.9"
  },
  "varInspector": {
   "cols": {
    "lenName": 16,
    "lenType": 16,
    "lenVar": 40
   },
   "kernels_config": {
    "python": {
     "delete_cmd_postfix": "",
     "delete_cmd_prefix": "del ",
     "library": "var_list.py",
     "varRefreshCmd": "print(var_dic_list())"
    },
    "r": {
     "delete_cmd_postfix": ") ",
     "delete_cmd_prefix": "rm(",
     "library": "var_list.r",
     "varRefreshCmd": "cat(var_dic_list()) "
    }
   },
   "types_to_exclude": [
    "module",
    "function",
    "builtin_function_or_method",
    "instance",
    "_Feature"
   ],
   "window_display": false
  }
 },
 "nbformat": 4,
 "nbformat_minor": 4
}
