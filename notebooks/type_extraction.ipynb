{
 "cells": [
  {
   "cell_type": "code",
   "execution_count": null,
   "metadata": {},
   "outputs": [],
   "source": [
    "import re\n",
    "import os\n",
    "import sys\n",
    "import inspect\n",
    "import pandas as pd\n",
    "sys.path.append(\"..\") \n",
    "from src.info_extactor import InfoExtractor\n",
    "os.getcwd()"
   ]
  },
  {
   "cell_type": "code",
   "execution_count": null,
   "metadata": {},
   "outputs": [],
   "source": [
    "df = pd.read_csv(\"data.csv\", index_col=0)\n",
    "ie = InfoExtractor()"
   ]
  },
  {
   "cell_type": "code",
   "execution_count": null,
   "metadata": {},
   "outputs": [],
   "source": [
    "df_text = df[\"מקום\"].astype(\"str\")"
   ]
  },
  {
   "cell_type": "code",
   "execution_count": null,
   "metadata": {},
   "outputs": [],
   "source": [
    "df_topics = df[[\"מקום\"]].astype(\"str\")\n",
    "print(type(df_topics))\n",
    "\n",
    "\n",
    "df_topics[\"type\"] = df_topics[\"מקום\"].apply(lambda x: ie.extract_type[\"types\"][0])\n",
    "\n",
    "for current_column_name, current_regex in zip(column_list, regex_list):\n",
    "    df_topics[\"is_\" + current_column_name] = df_topics[\"מקום\"].apply(lambda x: bool(re.search(current_regex, x)))"
   ]
  },
  {
   "cell_type": "code",
   "execution_count": null,
   "metadata": {},
   "outputs": [],
   "source": [
    "essesnce_hist = df_topics[df_topics[df_topics.columns[2:-1]].astype(int) == 1].count().sort_values(ascending=False) #ignoring locations\n",
    "essesnce_hist.plot.bar(grid=True, figsize=(10,10), title=\"Extracted Site Essense Occurences\")"
   ]
  },
  {
   "cell_type": "code",
   "execution_count": null,
   "metadata": {},
   "outputs": [],
   "source": [
    "print(\"extracted essesnces percentage: {:.2f}\".format(essesnce_hist.sum() / len(df_topics) * 100))"
   ]
  },
  {
   "cell_type": "code",
   "execution_count": null,
   "metadata": {},
   "outputs": [],
   "source": [
    "#df_topics[df_topics[df_topics.columns[2:-1]].astype(int) == 1].hist(bins=len(column_list))"
   ]
  },
  {
   "cell_type": "code",
   "execution_count": null,
   "metadata": {},
   "outputs": [],
   "source": [
    "df_topics[df_topics[df_topics.columns[2:]].astype(int).sum(axis=1) == 0].to_csv(\"uncategorised.csv\") #getting all rows without regex hits"
   ]
  },
  {
   "cell_type": "code",
   "execution_count": null,
   "metadata": {},
   "outputs": [],
   "source": [
    "yeshuv_df[yeshuv_df[\"שם_ישוב\"].str.contains(\"מודיעין\")]"
   ]
  },
  {
   "cell_type": "code",
   "execution_count": null,
   "metadata": {
    "scrolled": false
   },
   "outputs": [],
   "source": [
    "#df_topics[\"yeshuv\"] = df_topics[\"מקום\"].apply(lambda x: yeshuv_df[yeshuv_df[\"שם_ישוב\"].str.contains(\"תל אביב\")])\n",
    "\n",
    "def extract_city(text):\n",
    "    candidate_text = text[-12:]\n",
    "    best_match = \"   \"\n",
    "    for city in all_seperated_names:\n",
    "        if city == candidate_text or (city in candidate_text and len(city) > len(best_match)):\n",
    "            best_match = city\n",
    "    #print(\"text: \" + text + \" candidate_text: \" + str(candidate_text) + \" , city: \" + best_match)\n",
    "    return best_match\n",
    "\n",
    "df_topics[\"yeshuv\"] = df_topics[\"מקום\"].apply(extract_city)"
   ]
  },
  {
   "cell_type": "code",
   "execution_count": null,
   "metadata": {},
   "outputs": [],
   "source": [
    "\n",
    "#essesnce_hist.plot.bar(grid=True, figsize=(10,10), title=\"Extracted Site Essense Occurences\")\n",
    "df_topics[\"yeshuv\"].hist(figsize=(20,20), xrot=90, xlabelsize=12)"
   ]
  },
  {
   "cell_type": "code",
   "execution_count": null,
   "metadata": {},
   "outputs": [],
   "source": [
    "city_hist"
   ]
  },
  {
   "cell_type": "code",
   "execution_count": null,
   "metadata": {},
   "outputs": [],
   "source": []
  }
 ],
 "metadata": {
  "kernelspec": {
   "display_name": "Python 3",
   "language": "python",
   "name": "python3"
  },
  "language_info": {
   "codemirror_mode": {
    "name": "ipython",
    "version": 3
   },
   "file_extension": ".py",
   "mimetype": "text/x-python",
   "name": "python",
   "nbconvert_exporter": "python",
   "pygments_lexer": "ipython3",
   "version": "3.6.9"
  },
  "varInspector": {
   "cols": {
    "lenName": 16,
    "lenType": 16,
    "lenVar": 40
   },
   "kernels_config": {
    "python": {
     "delete_cmd_postfix": "",
     "delete_cmd_prefix": "del ",
     "library": "var_list.py",
     "varRefreshCmd": "print(var_dic_list())"
    },
    "r": {
     "delete_cmd_postfix": ") ",
     "delete_cmd_prefix": "rm(",
     "library": "var_list.r",
     "varRefreshCmd": "cat(var_dic_list()) "
    }
   },
   "types_to_exclude": [
    "module",
    "function",
    "builtin_function_or_method",
    "instance",
    "_Feature"
   ],
   "window_display": false
  }
 },
 "nbformat": 4,
 "nbformat_minor": 4
}
