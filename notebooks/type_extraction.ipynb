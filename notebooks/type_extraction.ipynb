{
 "cells": [
  {
   "cell_type": "code",
   "execution_count": 1,
   "metadata": {},
   "outputs": [
    {
     "name": "stdout",
     "output_type": "stream",
     "text": [
      "/home/erezsc/PycharmProjects/geocore\n"
     ]
    }
   ],
   "source": [
    "import re\n",
    "import os\n",
    "import sys\n",
    "import inspect\n",
    "import pandas as pd\n",
    "os.chdir(\"..\")\n",
    "from src.info_extactor import InfoExtractor\n",
    "print(os.getcwd())"
   ]
  },
  {
   "cell_type": "code",
   "execution_count": 2,
   "metadata": {},
   "outputs": [],
   "source": [
    "#DATA_PATH = os.path.join(\"data\",\"test.csv\")\n",
    "DATA_PATH = os.path.join(\"data\",\"EPI_CoronaExposure_XRM_NEW_31_3_1807_TableToExcel.csv\")\n",
    "\n",
    "\n",
    "df = pd.read_csv(DATA_PATH, index_col=0)\n",
    "if \"מקום\" in df.columns.tolist():\n",
    "    df.rename(columns={\"מקום\":\"place\"}, inplace=True)\n",
    "df_topics = df[[\"place\"]].astype(\"str\")\n",
    "os.chdir(\"src\")\n",
    "ie = InfoExtractor()"
   ]
  },
  {
   "cell_type": "code",
   "execution_count": 34,
   "metadata": {},
   "outputs": [
    {
     "data": {
      "text/plain": [
       "'percentage of Google extracted location types: 0.51'"
      ]
     },
     "execution_count": 34,
     "metadata": {},
     "output_type": "execute_result"
    }
   ],
   "source": [
    "\"percentage of Google extracted location types: {:.2f}\".format(len(df[\"geostatusname\"].dropna()) / len(df[\"geostatusname\"]))"
   ]
  },
  {
   "cell_type": "code",
   "execution_count": 28,
   "metadata": {},
   "outputs": [
    {
     "data": {
      "text/plain": [
       "<matplotlib.axes._subplots.AxesSubplot at 0x7f7d5935e080>"
      ]
     },
     "execution_count": 28,
     "metadata": {},
     "output_type": "execute_result"
    },
    {
     "data": {
      "image/png": "[encoded data removed]",
      "text/plain": [
       "<Figure size 432x288 with 1 Axes>"
      ]
     },
     "metadata": {
      "needs_background": "light"
     },
     "output_type": "display_data"
    }
   ],
   "source": [
    "df[\"valid\"].hist(bins=10)"
   ]
  },
  {
   "cell_type": "code",
   "execution_count": 32,
   "metadata": {},
   "outputs": [
    {
     "data": {
      "text/plain": [
       "'percentage of Google extracted cities: 0.53'"
      ]
     },
     "execution_count": 32,
     "metadata": {},
     "output_type": "execute_result"
    }
   ],
   "source": [
    "\"percentage of Google extracted cities: {:.2f}\".format(len(df[\"CityName\"].dropna()) / len(df[\"CityName\"]))"
   ]
  },
  {
   "cell_type": "code",
   "execution_count": 4,
   "metadata": {},
   "outputs": [],
   "source": [
    "df_text = df[\"place\"].astype(\"str\")"
   ]
  },
  {
   "cell_type": "code",
   "execution_count": 36,
   "metadata": {},
   "outputs": [],
   "source": [
    "df_topics[\"type\"] = df_topics[\"place\"].apply(lambda x: None if ie.extract_type(x) is None else ie.extract_type(x)[0])\n",
    "df_topics[\"city\"] = df_topics[\"place\"].apply(ie.extract_city)\n",
    "df_topics[\"city\"] = df_topics[\"city\"].apply(lambda x: None if x == '   ' else x)\n",
    "df_topics[\"google_type\"] = df[\"geostatusname\"]\n",
    "df_topics[\"google_city\"] = df[\"CityName\"]"
   ]
  },
  {
   "cell_type": "code",
   "execution_count": 37,
   "metadata": {},
   "outputs": [
    {
     "data": {
      "text/html": [
       "<div>\n",
       "<style scoped>\n",
       "    .dataframe tbody tr th:only-of-type {\n",
       "        vertical-align: middle;\n",
       "    }\n",
       "\n",
       "    .dataframe tbody tr th {\n",
       "        vertical-align: top;\n",
       "    }\n",
       "\n",
       "    .dataframe thead th {\n",
       "        text-align: right;\n",
       "    }\n",
       "</style>\n",
       "<table border=\"1\" class=\"dataframe\">\n",
       "  <thead>\n",
       "    <tr style=\"text-align: right;\">\n",
       "      <th></th>\n",
       "      <th>place</th>\n",
       "      <th>type</th>\n",
       "      <th>city</th>\n",
       "      <th>google_type</th>\n",
       "      <th>google_city</th>\n",
       "    </tr>\n",
       "    <tr>\n",
       "      <th>OBJECTID</th>\n",
       "      <th></th>\n",
       "      <th></th>\n",
       "      <th></th>\n",
       "      <th></th>\n",
       "      <th></th>\n",
       "    </tr>\n",
       "  </thead>\n",
       "  <tbody>\n",
       "    <tr>\n",
       "      <th>1</th>\n",
       "      <td>nan</td>\n",
       "      <td>None</td>\n",
       "      <td>None</td>\n",
       "      <td>NaN</td>\n",
       "      <td>NaN</td>\n",
       "    </tr>\n",
       "    <tr>\n",
       "      <th>2</th>\n",
       "      <td>nan</td>\n",
       "      <td>None</td>\n",
       "      <td>None</td>\n",
       "      <td>NaN</td>\n",
       "      <td>NaN</td>\n",
       "    </tr>\n",
       "    <tr>\n",
       "      <th>3</th>\n",
       "      <td>nan</td>\n",
       "      <td>None</td>\n",
       "      <td>None</td>\n",
       "      <td>NaN</td>\n",
       "      <td>NaN</td>\n",
       "    </tr>\n",
       "    <tr>\n",
       "      <th>4</th>\n",
       "      <td>תחנת אוטובוס דיזינגוף/פרישמן תל אביב</td>\n",
       "      <td>None</td>\n",
       "      <td>תל אביב</td>\n",
       "      <td>NaN</td>\n",
       "      <td>NaN</td>\n",
       "    </tr>\n",
       "    <tr>\n",
       "      <th>5</th>\n",
       "      <td>תחנת אוטובוס אלנבי (שוק הכרמל) תל אביב</td>\n",
       "      <td>None</td>\n",
       "      <td>תל אביב</td>\n",
       "      <td>NaN</td>\n",
       "      <td>NaN</td>\n",
       "    </tr>\n",
       "  </tbody>\n",
       "</table>\n",
       "</div>"
      ],
      "text/plain": [
       "                                           place  type     city google_type  \\\n",
       "OBJECTID                                                                      \n",
       "1                                            nan  None     None         NaN   \n",
       "2                                            nan  None     None         NaN   \n",
       "3                                            nan  None     None         NaN   \n",
       "4           תחנת אוטובוס דיזינגוף/פרישמן תל אביב  None  תל אביב         NaN   \n",
       "5         תחנת אוטובוס אלנבי (שוק הכרמל) תל אביב  None  תל אביב         NaN   \n",
       "\n",
       "         google_city  \n",
       "OBJECTID              \n",
       "1                NaN  \n",
       "2                NaN  \n",
       "3                NaN  \n",
       "4                NaN  \n",
       "5                NaN  "
      ]
     },
     "execution_count": 37,
     "metadata": {},
     "output_type": "execute_result"
    }
   ],
   "source": [
    "df_topics.head()"
   ]
  },
  {
   "cell_type": "code",
   "execution_count": 7,
   "metadata": {},
   "outputs": [
    {
     "data": {
      "text/plain": [
       "<matplotlib.axes._subplots.AxesSubplot at 0x7f7d5fc8c6d8>"
      ]
     },
     "execution_count": 7,
     "metadata": {},
     "output_type": "execute_result"
    },
    {
     "data": {
      "image/png": "[encoded data removed]",
      "text/plain": [
       "<Figure size 720x720 with 1 Axes>"
      ]
     },
     "metadata": {
      "needs_background": "light"
     },
     "output_type": "display_data"
    }
   ],
   "source": [
    "types_agg_df = pd.get_dummies(df_topics[[\"type\"]]).agg(\"sum\").sort_values(ascending=False)\n",
    "total_extracted_types = types_agg_df.sum()\n",
    "hit_percentage = \"{:.2f}\".format(total_extracted_types / len(df_topics) * 100)\n",
    "types_agg_df.plot.bar(grid=True, figsize=(10,10), title=\"Extracted types - \" + DATA_PATH + \" hits: \" + hit_percentage)"
   ]
  },
  {
   "cell_type": "code",
   "execution_count": 51,
   "metadata": {},
   "outputs": [
    {
     "data": {
      "text/plain": [
       "0.8332666132906325"
      ]
     },
     "execution_count": 51,
     "metadata": {},
     "output_type": "execute_result"
    }
   ],
   "source": [
    "len(df_topics[\"city\"].dropna()) / len(df_topics[\"city\"])"
   ]
  },
  {
   "cell_type": "code",
   "execution_count": 61,
   "metadata": {},
   "outputs": [
    {
     "data": {
      "text/html": [
       "<div>\n",
       "<style scoped>\n",
       "    .dataframe tbody tr th:only-of-type {\n",
       "        vertical-align: middle;\n",
       "    }\n",
       "\n",
       "    .dataframe tbody tr th {\n",
       "        vertical-align: top;\n",
       "    }\n",
       "\n",
       "    .dataframe thead th {\n",
       "        text-align: right;\n",
       "    }\n",
       "</style>\n",
       "<table border=\"1\" class=\"dataframe\">\n",
       "  <thead>\n",
       "    <tr style=\"text-align: right;\">\n",
       "      <th></th>\n",
       "      <th>place</th>\n",
       "      <th>type</th>\n",
       "      <th>city</th>\n",
       "      <th>google_type</th>\n",
       "      <th>google_city</th>\n",
       "    </tr>\n",
       "    <tr>\n",
       "      <th>OBJECTID</th>\n",
       "      <th></th>\n",
       "      <th></th>\n",
       "      <th></th>\n",
       "      <th></th>\n",
       "      <th></th>\n",
       "    </tr>\n",
       "  </thead>\n",
       "  <tbody>\n",
       "    <tr>\n",
       "      <th>4</th>\n",
       "      <td>תחנת אוטובוס דיזינגוף/פרישמן תל אביב</td>\n",
       "      <td>None</td>\n",
       "      <td>תל אביב</td>\n",
       "      <td>NaN</td>\n",
       "      <td>NaN</td>\n",
       "    </tr>\n",
       "    <tr>\n",
       "      <th>5</th>\n",
       "      <td>תחנת אוטובוס אלנבי (שוק הכרמל) תל אביב</td>\n",
       "      <td>None</td>\n",
       "      <td>תל אביב</td>\n",
       "      <td>NaN</td>\n",
       "      <td>NaN</td>\n",
       "    </tr>\n",
       "    <tr>\n",
       "      <th>7</th>\n",
       "      <td>תחנת רכבת נתניה-ספיר</td>\n",
       "      <td>None</td>\n",
       "      <td>נתניה</td>\n",
       "      <td>NaN</td>\n",
       "      <td>NaN</td>\n",
       "    </tr>\n",
       "    <tr>\n",
       "      <th>9</th>\n",
       "      <td>תחנת רכבת באר שבע-מרכז</td>\n",
       "      <td>None</td>\n",
       "      <td>באר שבע</td>\n",
       "      <td>NaN</td>\n",
       "      <td>NaN</td>\n",
       "    </tr>\n",
       "    <tr>\n",
       "      <th>10</th>\n",
       "      <td>תחנת רכבת באר שבע-מרכז</td>\n",
       "      <td>None</td>\n",
       "      <td>באר שבע</td>\n",
       "      <td>NaN</td>\n",
       "      <td>NaN</td>\n",
       "    </tr>\n",
       "    <tr>\n",
       "      <th>...</th>\n",
       "      <td>...</td>\n",
       "      <td>...</td>\n",
       "      <td>...</td>\n",
       "      <td>...</td>\n",
       "      <td>...</td>\n",
       "    </tr>\n",
       "    <tr>\n",
       "      <th>4989</th>\n",
       "      <td>מיון תל השומר - רמת גן</td>\n",
       "      <td>hospital</td>\n",
       "      <td>רמת גן</td>\n",
       "      <td>NaN</td>\n",
       "      <td>רמת גן</td>\n",
       "    </tr>\n",
       "    <tr>\n",
       "      <th>4990</th>\n",
       "      <td>חנות מקצועי אלבז - נתניה</td>\n",
       "      <td>store</td>\n",
       "      <td>נתניה</td>\n",
       "      <td>G_Poi</td>\n",
       "      <td>נתניה</td>\n",
       "    </tr>\n",
       "    <tr>\n",
       "      <th>4991</th>\n",
       "      <td>ביה\"ח מאיר, מח' יולדות - כפר סבא</td>\n",
       "      <td>hospital</td>\n",
       "      <td>כפר סבא</td>\n",
       "      <td>G_Poi</td>\n",
       "      <td>כפר סבא</td>\n",
       "    </tr>\n",
       "    <tr>\n",
       "      <th>4993</th>\n",
       "      <td>יינות ביתן כביש עוקף - רמלה</td>\n",
       "      <td>None</td>\n",
       "      <td>רמלה</td>\n",
       "      <td>NaN</td>\n",
       "      <td>רמלה</td>\n",
       "    </tr>\n",
       "    <tr>\n",
       "      <th>4994</th>\n",
       "      <td>יינות ביתן - רמלה</td>\n",
       "      <td>None</td>\n",
       "      <td>רמלה</td>\n",
       "      <td>NaN</td>\n",
       "      <td>רמלה</td>\n",
       "    </tr>\n",
       "  </tbody>\n",
       "</table>\n",
       "<p>4163 rows × 5 columns</p>\n",
       "</div>"
      ],
      "text/plain": [
       "                                           place      type     city  \\\n",
       "OBJECTID                                                              \n",
       "4           תחנת אוטובוס דיזינגוף/פרישמן תל אביב      None  תל אביב   \n",
       "5         תחנת אוטובוס אלנבי (שוק הכרמל) תל אביב      None  תל אביב   \n",
       "7                           תחנת רכבת נתניה-ספיר      None    נתניה   \n",
       "9                         תחנת רכבת באר שבע-מרכז      None  באר שבע   \n",
       "10                        תחנת רכבת באר שבע-מרכז      None  באר שבע   \n",
       "...                                          ...       ...      ...   \n",
       "4989                      מיון תל השומר - רמת גן  hospital   רמת גן   \n",
       "4990                    חנות מקצועי אלבז - נתניה     store    נתניה   \n",
       "4991            ביה\"ח מאיר, מח' יולדות - כפר סבא  hospital  כפר סבא   \n",
       "4993                 יינות ביתן כביש עוקף - רמלה      None     רמלה   \n",
       "4994                           יינות ביתן - רמלה      None     רמלה   \n",
       "\n",
       "         google_type google_city  \n",
       "OBJECTID                          \n",
       "4                NaN         NaN  \n",
       "5                NaN         NaN  \n",
       "7                NaN         NaN  \n",
       "9                NaN         NaN  \n",
       "10               NaN         NaN  \n",
       "...              ...         ...  \n",
       "4989             NaN      רמת גן  \n",
       "4990           G_Poi       נתניה  \n",
       "4991           G_Poi     כפר סבא  \n",
       "4993             NaN        רמלה  \n",
       "4994             NaN        רמלה  \n",
       "\n",
       "[4163 rows x 5 columns]"
      ]
     },
     "execution_count": 61,
     "metadata": {},
     "output_type": "execute_result"
    }
   ],
   "source": [
    "df_topics[df_topics[\"city\"].notnull()]"
   ]
  },
  {
   "cell_type": "code",
   "execution_count": 79,
   "metadata": {},
   "outputs": [
    {
     "name": "stdout",
     "output_type": "stream",
     "text": [
      "we miss type and google hits / our misses: 0.53\n",
      "we miss city and google hits / our misses: 0.39\n",
      "we hit type and google misses / google misses: 0.70\n",
      "we hit city and google misses / google misses: 0.78\n",
      "we miss city and google misses city / total: 0.47\n",
      "we miss type and google misses type / total: 0.35\n"
     ]
    }
   ],
   "source": [
    "print(\"we miss type and google hits / our misses: {:.2f}\".format(len(df_topics[df_topics[\"type\"].isna() & ~df_topics[\"google_type\"].isna()]) / len(df_topics[df_topics[\"type\"].isna()])))\n",
    "print(\"we miss city and google hits / our misses: {:.2f}\".format(len(df_topics[df_topics[\"city\"].isna() & ~df_topics[\"google_city\"].isna()]) / len(df_topics[df_topics[\"city\"].isna()])))\n",
    "\n",
    "print(\"we hit type and google misses / google misses: {:.2f}\".format(len(df_topics[~df_topics[\"type\"].isna() & df_topics[\"google_type\"].isna()]) / len(df_topics[df_topics[\"google_type\"].isna()])))\n",
    "print(\"we hit city and google misses / google misses: {:.2f}\".format(len(df_topics[~df_topics[\"city\"].isna() & df_topics[\"google_city\"].isna()]) / len(df_topics[df_topics[\"google_city\"].isna()])))\n",
    "\n",
    "print(\"we miss city and google misses city / total: {:.2f}\".format(len(df_topics[~(df_topics[\"city\"].isna() | df_topics[\"google_city\"].isna())]) / len(df_topics)))\n",
    "print(\"we miss type and google misses type / total: {:.2f}\".format(len(df_topics[~(df_topics[\"type\"].isna() | df_topics[\"google_type\"].isna())]) / len(df_topics)))"
   ]
  },
  {
   "cell_type": "code",
   "execution_count": 9,
   "metadata": {
    "scrolled": false
   },
   "outputs": [
    {
     "data": {
      "text/plain": [
       "<matplotlib.axes._subplots.AxesSubplot at 0x7f7d5c4c4e10>"
      ]
     },
     "execution_count": 9,
     "metadata": {},
     "output_type": "execute_result"
    },
    {
     "data": {
      "image/png": "[encoded data removed]",
      "text/plain": [
       "<Figure size 1440x1440 with 1 Axes>"
      ]
     },
     "metadata": {
      "needs_background": "light"
     },
     "output_type": "display_data"
    }
   ],
   "source": [
    "cities_agg_df = pd.get_dummies(df_topics[[\"city\"]]).agg(\"sum\").sort_values(ascending=False)\n",
    "total_extracted_types = cities_agg_df.sum()\n",
    "hit_percentage = \"{:.2f}\".format(total_extracted_types / len(df_topics) * 100)\n",
    "cities_agg_df.index = pd.Series([x[5:][::-1] for x in cities_agg_df.index.tolist()])\n",
    "cities_agg_df.plot.bar(grid=True, figsize=(20,20), title=\"Extracted cities - \" + DATA_PATH + \" hits: \" + hit_percentage)"
   ]
  },
  {
   "cell_type": "code",
   "execution_count": 10,
   "metadata": {},
   "outputs": [
    {
     "data": {
      "text/html": [
       "<div>\n",
       "<style scoped>\n",
       "    .dataframe tbody tr th:only-of-type {\n",
       "        vertical-align: middle;\n",
       "    }\n",
       "\n",
       "    .dataframe tbody tr th {\n",
       "        vertical-align: top;\n",
       "    }\n",
       "\n",
       "    .dataframe thead th {\n",
       "        text-align: right;\n",
       "    }\n",
       "</style>\n",
       "<table border=\"1\" class=\"dataframe\">\n",
       "  <thead>\n",
       "    <tr style=\"text-align: right;\">\n",
       "      <th></th>\n",
       "      <th>place</th>\n",
       "      <th>type</th>\n",
       "      <th>city</th>\n",
       "    </tr>\n",
       "    <tr>\n",
       "      <th>OBJECTID</th>\n",
       "      <th></th>\n",
       "      <th></th>\n",
       "      <th></th>\n",
       "    </tr>\n",
       "  </thead>\n",
       "  <tbody>\n",
       "    <tr>\n",
       "      <th>1</th>\n",
       "      <td>nan</td>\n",
       "      <td>None</td>\n",
       "      <td>None</td>\n",
       "    </tr>\n",
       "    <tr>\n",
       "      <th>2</th>\n",
       "      <td>nan</td>\n",
       "      <td>None</td>\n",
       "      <td>None</td>\n",
       "    </tr>\n",
       "    <tr>\n",
       "      <th>3</th>\n",
       "      <td>nan</td>\n",
       "      <td>None</td>\n",
       "      <td>None</td>\n",
       "    </tr>\n",
       "    <tr>\n",
       "      <th>6</th>\n",
       "      <td>תחנת רכבת תל אביב-סבידור מרכז</td>\n",
       "      <td>None</td>\n",
       "      <td>None</td>\n",
       "    </tr>\n",
       "    <tr>\n",
       "      <th>8</th>\n",
       "      <td>תחנת רכבת תל אביב-סבידור מרכז</td>\n",
       "      <td>None</td>\n",
       "      <td>None</td>\n",
       "    </tr>\n",
       "    <tr>\n",
       "      <th>...</th>\n",
       "      <td>...</td>\n",
       "      <td>...</td>\n",
       "      <td>...</td>\n",
       "    </tr>\n",
       "    <tr>\n",
       "      <th>218</th>\n",
       "      <td>קו 59 מאור יהודה (היסמין / החצב) לתל אביב (מנח...</td>\n",
       "      <td>None</td>\n",
       "      <td>None</td>\n",
       "    </tr>\n",
       "    <tr>\n",
       "      <th>219</th>\n",
       "      <td>קו 59 מאור יהודה (היסמין / החצב) לתל אביב (מנח...</td>\n",
       "      <td>None</td>\n",
       "      <td>None</td>\n",
       "    </tr>\n",
       "    <tr>\n",
       "      <th>220</th>\n",
       "      <td>קו 59 מאור יהודה (היסמין / החצב) לתל אביב (מנח...</td>\n",
       "      <td>None</td>\n",
       "      <td>None</td>\n",
       "    </tr>\n",
       "    <tr>\n",
       "      <th>221</th>\n",
       "      <td>קו 59 מאור יהודה (היסמין / החצב) לתל אביב (מנח...</td>\n",
       "      <td>None</td>\n",
       "      <td>None</td>\n",
       "    </tr>\n",
       "    <tr>\n",
       "      <th>222</th>\n",
       "      <td>קו 59 מאור יהודה (היסמין / החצב) לתל אביב (מנח...</td>\n",
       "      <td>None</td>\n",
       "      <td>None</td>\n",
       "    </tr>\n",
       "  </tbody>\n",
       "</table>\n",
       "<p>100 rows × 3 columns</p>\n",
       "</div>"
      ],
      "text/plain": [
       "                                                      place  type  city\n",
       "OBJECTID                                                               \n",
       "1                                                       nan  None  None\n",
       "2                                                       nan  None  None\n",
       "3                                                       nan  None  None\n",
       "6                             תחנת רכבת תל אביב-סבידור מרכז  None  None\n",
       "8                             תחנת רכבת תל אביב-סבידור מרכז  None  None\n",
       "...                                                     ...   ...   ...\n",
       "218       קו 59 מאור יהודה (היסמין / החצב) לתל אביב (מנח...  None  None\n",
       "219       קו 59 מאור יהודה (היסמין / החצב) לתל אביב (מנח...  None  None\n",
       "220       קו 59 מאור יהודה (היסמין / החצב) לתל אביב (מנח...  None  None\n",
       "221       קו 59 מאור יהודה (היסמין / החצב) לתל אביב (מנח...  None  None\n",
       "222       קו 59 מאור יהודה (היסמין / החצב) לתל אביב (מנח...  None  None\n",
       "\n",
       "[100 rows x 3 columns]"
      ]
     },
     "execution_count": 10,
     "metadata": {},
     "output_type": "execute_result"
    }
   ],
   "source": [
    "df_topics[df_topics[\"city\"].isna()].head(100) #failed cities extraction"
   ]
  },
  {
   "cell_type": "code",
   "execution_count": 11,
   "metadata": {},
   "outputs": [
    {
     "data": {
      "text/html": [
       "<div>\n",
       "<style scoped>\n",
       "    .dataframe tbody tr th:only-of-type {\n",
       "        vertical-align: middle;\n",
       "    }\n",
       "\n",
       "    .dataframe tbody tr th {\n",
       "        vertical-align: top;\n",
       "    }\n",
       "\n",
       "    .dataframe thead th {\n",
       "        text-align: right;\n",
       "    }\n",
       "</style>\n",
       "<table border=\"1\" class=\"dataframe\">\n",
       "  <thead>\n",
       "    <tr style=\"text-align: right;\">\n",
       "      <th></th>\n",
       "      <th>place</th>\n",
       "      <th>type</th>\n",
       "      <th>city</th>\n",
       "    </tr>\n",
       "    <tr>\n",
       "      <th>OBJECTID</th>\n",
       "      <th></th>\n",
       "      <th></th>\n",
       "      <th></th>\n",
       "    </tr>\n",
       "  </thead>\n",
       "  <tbody>\n",
       "    <tr>\n",
       "      <th>1</th>\n",
       "      <td>nan</td>\n",
       "      <td>None</td>\n",
       "      <td>None</td>\n",
       "    </tr>\n",
       "    <tr>\n",
       "      <th>2</th>\n",
       "      <td>nan</td>\n",
       "      <td>None</td>\n",
       "      <td>None</td>\n",
       "    </tr>\n",
       "    <tr>\n",
       "      <th>3</th>\n",
       "      <td>nan</td>\n",
       "      <td>None</td>\n",
       "      <td>None</td>\n",
       "    </tr>\n",
       "    <tr>\n",
       "      <th>4</th>\n",
       "      <td>תחנת אוטובוס דיזינגוף/פרישמן תל אביב</td>\n",
       "      <td>None</td>\n",
       "      <td>תל אביב</td>\n",
       "    </tr>\n",
       "    <tr>\n",
       "      <th>5</th>\n",
       "      <td>תחנת אוטובוס אלנבי (שוק הכרמל) תל אביב</td>\n",
       "      <td>None</td>\n",
       "      <td>תל אביב</td>\n",
       "    </tr>\n",
       "    <tr>\n",
       "      <th>...</th>\n",
       "      <td>...</td>\n",
       "      <td>...</td>\n",
       "      <td>...</td>\n",
       "    </tr>\n",
       "    <tr>\n",
       "      <th>147</th>\n",
       "      <td>קו 59 מאור יהודה (היסמין / החצב) לתל אביב (מנח...</td>\n",
       "      <td>None</td>\n",
       "      <td>None</td>\n",
       "    </tr>\n",
       "    <tr>\n",
       "      <th>148</th>\n",
       "      <td>קו 59 מאור יהודה (היסמין / החצב) לתל אביב (מנח...</td>\n",
       "      <td>None</td>\n",
       "      <td>None</td>\n",
       "    </tr>\n",
       "    <tr>\n",
       "      <th>149</th>\n",
       "      <td>קו 59 מאור יהודה (היסמין / החצב) לתל אביב (מנח...</td>\n",
       "      <td>None</td>\n",
       "      <td>None</td>\n",
       "    </tr>\n",
       "    <tr>\n",
       "      <th>150</th>\n",
       "      <td>קו 59 מאור יהודה (היסמין / החצב) לתל אביב (מנח...</td>\n",
       "      <td>None</td>\n",
       "      <td>None</td>\n",
       "    </tr>\n",
       "    <tr>\n",
       "      <th>151</th>\n",
       "      <td>קו 59 מאור יהודה (היסמין / החצב) לתל אביב (מנח...</td>\n",
       "      <td>None</td>\n",
       "      <td>None</td>\n",
       "    </tr>\n",
       "  </tbody>\n",
       "</table>\n",
       "<p>100 rows × 3 columns</p>\n",
       "</div>"
      ],
      "text/plain": [
       "                                                      place  type     city\n",
       "OBJECTID                                                                  \n",
       "1                                                       nan  None     None\n",
       "2                                                       nan  None     None\n",
       "3                                                       nan  None     None\n",
       "4                      תחנת אוטובוס דיזינגוף/פרישמן תל אביב  None  תל אביב\n",
       "5                    תחנת אוטובוס אלנבי (שוק הכרמל) תל אביב  None  תל אביב\n",
       "...                                                     ...   ...      ...\n",
       "147       קו 59 מאור יהודה (היסמין / החצב) לתל אביב (מנח...  None     None\n",
       "148       קו 59 מאור יהודה (היסמין / החצב) לתל אביב (מנח...  None     None\n",
       "149       קו 59 מאור יהודה (היסמין / החצב) לתל אביב (מנח...  None     None\n",
       "150       קו 59 מאור יהודה (היסמין / החצב) לתל אביב (מנח...  None     None\n",
       "151       קו 59 מאור יהודה (היסמין / החצב) לתל אביב (מנח...  None     None\n",
       "\n",
       "[100 rows x 3 columns]"
      ]
     },
     "execution_count": 11,
     "metadata": {},
     "output_type": "execute_result"
    }
   ],
   "source": [
    "df_topics[df_topics[\"type\"].isna()].head(100)  #failed type extraction"
   ]
  },
  {
   "cell_type": "code",
   "execution_count": null,
   "metadata": {},
   "outputs": [],
   "source": []
  }
 ],
 "metadata": {
  "kernelspec": {
   "display_name": "Python 3",
   "language": "python",
   "name": "python3"
  },
  "language_info": {
   "codemirror_mode": {
    "name": "ipython",
    "version": 3
   },
   "file_extension": ".py",
   "mimetype": "text/x-python",
   "name": "python",
   "nbconvert_exporter": "python",
   "pygments_lexer": "ipython3",
   "version": "3.6.9"
  },
  "varInspector": {
   "cols": {
    "lenName": 16,
    "lenType": 16,
    "lenVar": 40
   },
   "kernels_config": {
    "python": {
     "delete_cmd_postfix": "",
     "delete_cmd_prefix": "del ",
     "library": "var_list.py",
     "varRefreshCmd": "print(var_dic_list())"
    },
    "r": {
     "delete_cmd_postfix": ") ",
     "delete_cmd_prefix": "rm(",
     "library": "var_list.r",
     "varRefreshCmd": "cat(var_dic_list()) "
    }
   },
   "types_to_exclude": [
    "module",
    "function",
    "builtin_function_or_method",
    "instance",
    "_Feature"
   ],
   "window_display": false
  }
 },
 "nbformat": 4,
 "nbformat_minor": 4
}
