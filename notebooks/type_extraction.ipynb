{
 "cells": [
  {
   "cell_type": "code",
   "execution_count": 1,
   "metadata": {},
   "outputs": [
    {
     "name": "stdout",
     "output_type": "stream",
     "text": [
      "/home/erezsc/PycharmProjects/geocore\n"
     ]
    }
   ],
   "source": [
    "import re\n",
    "import os\n",
    "import sys\n",
    "import inspect\n",
    "import pandas as pd\n",
    "os.chdir(\"..\")\n",
    "from src.info_extactor import InfoExtractor\n",
    "print(os.getcwd())"
   ]
  },
  {
   "cell_type": "code",
   "execution_count": 2,
   "metadata": {},
   "outputs": [],
   "source": [
    "DATA_PATH = \"data/test.csv\"\n",
    "\n",
    "df = pd.read_csv(DATA_PATH, index_col=0)\n",
    "if \"מקום\" in df.columns.tolist():\n",
    "    df.rename(columns={\"מקום\":\"place\"}, inplace=True)\n",
    "df_topics = df[[\"place\"]].astype(\"str\")\n",
    "os.chdir(\"src\")\n",
    "ie = InfoExtractor()"
   ]
  },
  {
   "cell_type": "code",
   "execution_count": 3,
   "metadata": {},
   "outputs": [],
   "source": [
    "df_text = df[\"place\"].astype(\"str\")"
   ]
  },
  {
   "cell_type": "code",
   "execution_count": 4,
   "metadata": {},
   "outputs": [],
   "source": [
    "df_topics[\"type\"] = df_topics[\"place\"].apply(lambda x: None if ie.extract_type(x) is None else ie.extract_type(x)[0])\n",
    "df_topics[\"city\"] = df_topics[\"place\"].apply(ie.extract_city)\n",
    "df_topics[\"city\"] = df_topics[\"city\"].apply(lambda x: None if x == '   ' else x)"
   ]
  },
  {
   "cell_type": "code",
   "execution_count": 5,
   "metadata": {},
   "outputs": [
    {
     "data": {
      "text/html": [
       "<div>\n",
       "<style scoped>\n",
       "    .dataframe tbody tr th:only-of-type {\n",
       "        vertical-align: middle;\n",
       "    }\n",
       "\n",
       "    .dataframe tbody tr th {\n",
       "        vertical-align: top;\n",
       "    }\n",
       "\n",
       "    .dataframe thead th {\n",
       "        text-align: right;\n",
       "    }\n",
       "</style>\n",
       "<table border=\"1\" class=\"dataframe\">\n",
       "  <thead>\n",
       "    <tr style=\"text-align: right;\">\n",
       "      <th></th>\n",
       "      <th>place</th>\n",
       "      <th>type</th>\n",
       "      <th>city</th>\n",
       "    </tr>\n",
       "  </thead>\n",
       "  <tbody>\n",
       "    <tr>\n",
       "      <th>0</th>\n",
       "      <td>מועדון \"זוזו\", שדרות רוטשילד 32, תל אביב</td>\n",
       "      <td>club</td>\n",
       "      <td>תל אביב</td>\n",
       "    </tr>\n",
       "    <tr>\n",
       "      <th>1</th>\n",
       "      <td>דיור מוגן \"מגדל נופים\" רחוב הנריטה סאלד 2 ירושלים</td>\n",
       "      <td>elderly</td>\n",
       "      <td>ירושלים</td>\n",
       "    </tr>\n",
       "    <tr>\n",
       "      <th>2</th>\n",
       "      <td>מועדון Sura Mare, רחוב סעדיה גאון 24, תל אביב</td>\n",
       "      <td>club</td>\n",
       "      <td>תל אביב</td>\n",
       "    </tr>\n",
       "    <tr>\n",
       "      <th>3</th>\n",
       "      <td>מועדון \"Sura Mare\", רחוב סעדיה גאון 24, תל אביב</td>\n",
       "      <td>club</td>\n",
       "      <td>תל אביב</td>\n",
       "    </tr>\n",
       "    <tr>\n",
       "      <th>4</th>\n",
       "      <td>אולם \"שבע\" רח' הצפירה 21, ת\"א</td>\n",
       "      <td>club</td>\n",
       "      <td>None</td>\n",
       "    </tr>\n",
       "  </tbody>\n",
       "</table>\n",
       "</div>"
      ],
      "text/plain": [
       "                                               place     type     city\n",
       "0           מועדון \"זוזו\", שדרות רוטשילד 32, תל אביב     club  תל אביב\n",
       "1  דיור מוגן \"מגדל נופים\" רחוב הנריטה סאלד 2 ירושלים  elderly  ירושלים\n",
       "2      מועדון Sura Mare, רחוב סעדיה גאון 24, תל אביב     club  תל אביב\n",
       "3    מועדון \"Sura Mare\", רחוב סעדיה גאון 24, תל אביב     club  תל אביב\n",
       "4                      אולם \"שבע\" רח' הצפירה 21, ת\"א     club     None"
      ]
     },
     "execution_count": 5,
     "metadata": {},
     "output_type": "execute_result"
    }
   ],
   "source": [
    "df_topics.head()"
   ]
  },
  {
   "cell_type": "code",
   "execution_count": 6,
   "metadata": {},
   "outputs": [
    {
     "data": {
      "text/plain": [
       "<matplotlib.axes._subplots.AxesSubplot at 0x7fac68a2c978>"
      ]
     },
     "execution_count": 6,
     "metadata": {},
     "output_type": "execute_result"
    },
    {
     "data": {
      "image/png": "[encoded data removed]",
      "text/plain": [
       "<Figure size 720x720 with 1 Axes>"
      ]
     },
     "metadata": {
      "needs_background": "light"
     },
     "output_type": "display_data"
    }
   ],
   "source": [
    "types_agg_df = pd.get_dummies(df_topics[[\"type\"]]).agg(\"sum\").sort_values(ascending=False)\n",
    "total_extracted_types = types_agg_df.sum()\n",
    "hit_percentage = \"{:.2f}\".format(total_extracted_types / len(df_topics) * 100)\n",
    "types_agg_df.plot.bar(grid=True, figsize=(10,10), title=\"Extracted types - \" + DATA_PATH + \" hits: \" + hit_percentage)"
   ]
  },
  {
   "cell_type": "code",
   "execution_count": 7,
   "metadata": {},
   "outputs": [
    {
     "data": {
      "text/html": [
       "<div>\n",
       "<style scoped>\n",
       "    .dataframe tbody tr th:only-of-type {\n",
       "        vertical-align: middle;\n",
       "    }\n",
       "\n",
       "    .dataframe tbody tr th {\n",
       "        vertical-align: top;\n",
       "    }\n",
       "\n",
       "    .dataframe thead th {\n",
       "        text-align: right;\n",
       "    }\n",
       "</style>\n",
       "<table border=\"1\" class=\"dataframe\">\n",
       "  <thead>\n",
       "    <tr style=\"text-align: right;\">\n",
       "      <th></th>\n",
       "      <th>place</th>\n",
       "      <th>type</th>\n",
       "      <th>city</th>\n",
       "    </tr>\n",
       "  </thead>\n",
       "  <tbody>\n",
       "    <tr>\n",
       "      <th>0</th>\n",
       "      <td>מועדון \"זוזו\", שדרות רוטשילד 32, תל אביב</td>\n",
       "      <td>club</td>\n",
       "      <td>תל אביב</td>\n",
       "    </tr>\n",
       "    <tr>\n",
       "      <th>1</th>\n",
       "      <td>דיור מוגן \"מגדל נופים\" רחוב הנריטה סאלד 2 ירושלים</td>\n",
       "      <td>elderly</td>\n",
       "      <td>ירושלים</td>\n",
       "    </tr>\n",
       "    <tr>\n",
       "      <th>2</th>\n",
       "      <td>מועדון Sura Mare, רחוב סעדיה גאון 24, תל אביב</td>\n",
       "      <td>club</td>\n",
       "      <td>תל אביב</td>\n",
       "    </tr>\n",
       "    <tr>\n",
       "      <th>3</th>\n",
       "      <td>מועדון \"Sura Mare\", רחוב סעדיה גאון 24, תל אביב</td>\n",
       "      <td>club</td>\n",
       "      <td>תל אביב</td>\n",
       "    </tr>\n",
       "    <tr>\n",
       "      <th>4</th>\n",
       "      <td>אולם \"שבע\" רח' הצפירה 21, ת\"א</td>\n",
       "      <td>club</td>\n",
       "      <td>None</td>\n",
       "    </tr>\n",
       "  </tbody>\n",
       "</table>\n",
       "</div>"
      ],
      "text/plain": [
       "                                               place     type     city\n",
       "0           מועדון \"זוזו\", שדרות רוטשילד 32, תל אביב     club  תל אביב\n",
       "1  דיור מוגן \"מגדל נופים\" רחוב הנריטה סאלד 2 ירושלים  elderly  ירושלים\n",
       "2      מועדון Sura Mare, רחוב סעדיה גאון 24, תל אביב     club  תל אביב\n",
       "3    מועדון \"Sura Mare\", רחוב סעדיה גאון 24, תל אביב     club  תל אביב\n",
       "4                      אולם \"שבע\" רח' הצפירה 21, ת\"א     club     None"
      ]
     },
     "execution_count": 7,
     "metadata": {},
     "output_type": "execute_result"
    }
   ],
   "source": [
    "df_topics.head()"
   ]
  },
  {
   "cell_type": "code",
   "execution_count": null,
   "metadata": {},
   "outputs": [],
   "source": []
  },
  {
   "cell_type": "code",
   "execution_count": 23,
   "metadata": {
    "scrolled": false
   },
   "outputs": [
    {
     "data": {
      "text/plain": [
       "<matplotlib.axes._subplots.AxesSubplot at 0x7fac62e64e80>"
      ]
     },
     "execution_count": 23,
     "metadata": {},
     "output_type": "execute_result"
    },
    {
     "data": {
      "image/png": "[encoded data removed]",
      "text/plain": [
       "<Figure size 1440x1440 with 1 Axes>"
      ]
     },
     "metadata": {
      "needs_background": "light"
     },
     "output_type": "display_data"
    }
   ],
   "source": [
    "cities_agg_df = pd.get_dummies(df_topics[[\"city\"]]).agg(\"sum\").sort_values(ascending=False)\n",
    "total_extracted_types = cities_agg_df.sum()\n",
    "hit_percentage = \"{:.2f}\".format(total_extracted_types / len(df_topics) * 100)\n",
    "cities_agg_df.index = pd.Series([x[5:][::-1] for x in cities_agg_df.index.tolist()])\n",
    "cities_agg_df.plot.bar(grid=True, figsize=(20,20), title=\"Extracted cities - \" + DATA_PATH + \" hits: \" + hit_percentage)"
   ]
  },
  {
   "cell_type": "code",
   "execution_count": 9,
   "metadata": {},
   "outputs": [
    {
     "data": {
      "text/html": [
       "<div>\n",
       "<style scoped>\n",
       "    .dataframe tbody tr th:only-of-type {\n",
       "        vertical-align: middle;\n",
       "    }\n",
       "\n",
       "    .dataframe tbody tr th {\n",
       "        vertical-align: top;\n",
       "    }\n",
       "\n",
       "    .dataframe thead th {\n",
       "        text-align: right;\n",
       "    }\n",
       "</style>\n",
       "<table border=\"1\" class=\"dataframe\">\n",
       "  <thead>\n",
       "    <tr style=\"text-align: right;\">\n",
       "      <th></th>\n",
       "      <th>place</th>\n",
       "      <th>type</th>\n",
       "      <th>city</th>\n",
       "    </tr>\n",
       "  </thead>\n",
       "  <tbody>\n",
       "    <tr>\n",
       "      <th>4</th>\n",
       "      <td>אולם \"שבע\" רח' הצפירה 21, ת\"א</td>\n",
       "      <td>club</td>\n",
       "      <td>None</td>\n",
       "    </tr>\n",
       "    <tr>\n",
       "      <th>5</th>\n",
       "      <td>ישיבת חב\"ד קריית שמואל</td>\n",
       "      <td>yeshiva</td>\n",
       "      <td>None</td>\n",
       "    </tr>\n",
       "    <tr>\n",
       "      <th>6</th>\n",
       "      <td>מועדון נוער אור ישראלי</td>\n",
       "      <td>club</td>\n",
       "      <td>None</td>\n",
       "    </tr>\n",
       "    <tr>\n",
       "      <th>7</th>\n",
       "      <td>מועדון נוער אור ישראלי</td>\n",
       "      <td>club</td>\n",
       "      <td>None</td>\n",
       "    </tr>\n",
       "    <tr>\n",
       "      <th>8</th>\n",
       "      <td>בית חולים וולפסון</td>\n",
       "      <td>hospital</td>\n",
       "      <td>None</td>\n",
       "    </tr>\n",
       "    <tr>\n",
       "      <th>...</th>\n",
       "      <td>...</td>\n",
       "      <td>...</td>\n",
       "      <td>...</td>\n",
       "    </tr>\n",
       "    <tr>\n",
       "      <th>525</th>\n",
       "      <td>ישיבת חינוך לנער, צפת</td>\n",
       "      <td>yeshiva</td>\n",
       "      <td>None</td>\n",
       "    </tr>\n",
       "    <tr>\n",
       "      <th>527</th>\n",
       "      <td>בית ספר רוגוזין</td>\n",
       "      <td>school</td>\n",
       "      <td>None</td>\n",
       "    </tr>\n",
       "    <tr>\n",
       "      <th>529</th>\n",
       "      <td>סופרמרקט יוחננוף, צומת ביל\"ו</td>\n",
       "      <td>grocery</td>\n",
       "      <td>None</td>\n",
       "    </tr>\n",
       "    <tr>\n",
       "      <th>547</th>\n",
       "      <td>מרפאת \"גודפריד\" כללית</td>\n",
       "      <td>pharmacy</td>\n",
       "      <td>None</td>\n",
       "    </tr>\n",
       "    <tr>\n",
       "      <th>554</th>\n",
       "      <td>מתחנת עד\"ש  שפיק פתח תקווה לארלוזורוב בת\"א.</td>\n",
       "      <td>None</td>\n",
       "      <td>None</td>\n",
       "    </tr>\n",
       "  </tbody>\n",
       "</table>\n",
       "<p>100 rows × 3 columns</p>\n",
       "</div>"
      ],
      "text/plain": [
       "                                           place      type  city\n",
       "4                  אולם \"שבע\" רח' הצפירה 21, ת\"א      club  None\n",
       "5                         ישיבת חב\"ד קריית שמואל   yeshiva  None\n",
       "6                         מועדון נוער אור ישראלי      club  None\n",
       "7                         מועדון נוער אור ישראלי      club  None\n",
       "8                              בית חולים וולפסון  hospital  None\n",
       "..                                           ...       ...   ...\n",
       "525                        ישיבת חינוך לנער, צפת   yeshiva  None\n",
       "527                              בית ספר רוגוזין    school  None\n",
       "529                 סופרמרקט יוחננוף, צומת ביל\"ו   grocery  None\n",
       "547                        מרפאת \"גודפריד\" כללית  pharmacy  None\n",
       "554  מתחנת עד\"ש  שפיק פתח תקווה לארלוזורוב בת\"א.      None  None\n",
       "\n",
       "[100 rows x 3 columns]"
      ]
     },
     "execution_count": 9,
     "metadata": {},
     "output_type": "execute_result"
    }
   ],
   "source": [
    "df_topics[df_topics[\"city\"].isna()].head(100) #failed cities extraction"
   ]
  },
  {
   "cell_type": "code",
   "execution_count": 10,
   "metadata": {},
   "outputs": [
    {
     "data": {
      "text/html": [
       "<div>\n",
       "<style scoped>\n",
       "    .dataframe tbody tr th:only-of-type {\n",
       "        vertical-align: middle;\n",
       "    }\n",
       "\n",
       "    .dataframe tbody tr th {\n",
       "        vertical-align: top;\n",
       "    }\n",
       "\n",
       "    .dataframe thead th {\n",
       "        text-align: right;\n",
       "    }\n",
       "</style>\n",
       "<table border=\"1\" class=\"dataframe\">\n",
       "  <thead>\n",
       "    <tr style=\"text-align: right;\">\n",
       "      <th></th>\n",
       "      <th>place</th>\n",
       "      <th>type</th>\n",
       "      <th>city</th>\n",
       "    </tr>\n",
       "  </thead>\n",
       "  <tbody>\n",
       "    <tr>\n",
       "      <th>10</th>\n",
       "      <td>הרב שמעון וינגר ביהוד</td>\n",
       "      <td>None</td>\n",
       "      <td>יהוד</td>\n",
       "    </tr>\n",
       "    <tr>\n",
       "      <th>53</th>\n",
       "      <td>ארוחת בוקר במלון דן פנורמה, חיפה</td>\n",
       "      <td>None</td>\n",
       "      <td>חיפה</td>\n",
       "    </tr>\n",
       "    <tr>\n",
       "      <th>80</th>\n",
       "      <td>בית- קריאת מגילה ואירוע סעודת פורים - גבעת זאב</td>\n",
       "      <td>None</td>\n",
       "      <td>גבעת זאב</td>\n",
       "    </tr>\n",
       "    <tr>\n",
       "      <th>90</th>\n",
       "      <td>חניכי ישיבות אישי ישראל - בני ברק</td>\n",
       "      <td>None</td>\n",
       "      <td>בני ברק</td>\n",
       "    </tr>\n",
       "    <tr>\n",
       "      <th>91</th>\n",
       "      <td>אישי ישראל - בני ברק</td>\n",
       "      <td>None</td>\n",
       "      <td>בני ברק</td>\n",
       "    </tr>\n",
       "    <tr>\n",
       "      <th>...</th>\n",
       "      <td>...</td>\n",
       "      <td>...</td>\n",
       "      <td>...</td>\n",
       "    </tr>\n",
       "    <tr>\n",
       "      <th>441</th>\n",
       "      <td>רח' מעלות דפנה 139, ירושלים</td>\n",
       "      <td>None</td>\n",
       "      <td>ירושלים</td>\n",
       "    </tr>\n",
       "    <tr>\n",
       "      <th>444</th>\n",
       "      <td>קניון איילון- חנויות נייק, אדידס, זארה, REBAR ...</td>\n",
       "      <td>None</td>\n",
       "      <td>רמת גן</td>\n",
       "    </tr>\n",
       "    <tr>\n",
       "      <th>445</th>\n",
       "      <td>Chop Shop - תל אביב - יפו</td>\n",
       "      <td>None</td>\n",
       "      <td>None</td>\n",
       "    </tr>\n",
       "    <tr>\n",
       "      <th>456</th>\n",
       "      <td>קניון ממילא חנויות זארה ומנגו - ירושלים</td>\n",
       "      <td>None</td>\n",
       "      <td>ירושלים</td>\n",
       "    </tr>\n",
       "    <tr>\n",
       "      <th>457</th>\n",
       "      <td>רח' עמק דותן 49 מרכז רב- תחומי, מודיעין.</td>\n",
       "      <td>None</td>\n",
       "      <td>מודיעין</td>\n",
       "    </tr>\n",
       "  </tbody>\n",
       "</table>\n",
       "<p>100 rows × 3 columns</p>\n",
       "</div>"
      ],
      "text/plain": [
       "                                                 place  type      city\n",
       "10                               הרב שמעון וינגר ביהוד  None      יהוד\n",
       "53                    ארוחת בוקר במלון דן פנורמה, חיפה  None      חיפה\n",
       "80      בית- קריאת מגילה ואירוע סעודת פורים - גבעת זאב  None  גבעת זאב\n",
       "90                   חניכי ישיבות אישי ישראל - בני ברק  None   בני ברק\n",
       "91                                אישי ישראל - בני ברק  None   בני ברק\n",
       "..                                                 ...   ...       ...\n",
       "441                        רח' מעלות דפנה 139, ירושלים  None   ירושלים\n",
       "444  קניון איילון- חנויות נייק, אדידס, זארה, REBAR ...  None    רמת גן\n",
       "445                          Chop Shop - תל אביב - יפו  None      None\n",
       "456            קניון ממילא חנויות זארה ומנגו - ירושלים  None   ירושלים\n",
       "457           רח' עמק דותן 49 מרכז רב- תחומי, מודיעין.  None   מודיעין\n",
       "\n",
       "[100 rows x 3 columns]"
      ]
     },
     "execution_count": 10,
     "metadata": {},
     "output_type": "execute_result"
    }
   ],
   "source": [
    "df_topics[df_topics[\"type\"].isna()].head(100)  #failed type extraction"
   ]
  },
  {
   "cell_type": "code",
   "execution_count": null,
   "metadata": {},
   "outputs": [],
   "source": []
  }
 ],
 "metadata": {
  "kernelspec": {
   "display_name": "Python 3",
   "language": "python",
   "name": "python3"
  },
  "language_info": {
   "codemirror_mode": {
    "name": "ipython",
    "version": 3
   },
   "file_extension": ".py",
   "mimetype": "text/x-python",
   "name": "python",
   "nbconvert_exporter": "python",
   "pygments_lexer": "ipython3",
   "version": "3.6.9"
  },
  "varInspector": {
   "cols": {
    "lenName": 16,
    "lenType": 16,
    "lenVar": 40
   },
   "kernels_config": {
    "python": {
     "delete_cmd_postfix": "",
     "delete_cmd_prefix": "del ",
     "library": "var_list.py",
     "varRefreshCmd": "print(var_dic_list())"
    },
    "r": {
     "delete_cmd_postfix": ") ",
     "delete_cmd_prefix": "rm(",
     "library": "var_list.r",
     "varRefreshCmd": "cat(var_dic_list()) "
    }
   },
   "types_to_exclude": [
    "module",
    "function",
    "builtin_function_or_method",
    "instance",
    "_Feature"
   ],
   "window_display": false
  }
 },
 "nbformat": 4,
 "nbformat_minor": 4
}
